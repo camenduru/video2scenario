{
    "nbformat": 4,
    "nbformat_minor": 0,
    "metadata": {
      "colab": {
        "provenance": [],
        "gpuType": "T4"
      },
      "kernelspec": {
        "name": "python3",
        "display_name": "Python 3"
      },
      "language_info": {
        "name": "python"
      },
      "accelerator": "GPU"
    },
    "cells": [
        {
          "cell_type": "markdown",
          "metadata": {
            "id": "view-in-github"
          },
          "source": [
            "[![Open In Colab](https://colab.research.google.com/assets/colab-badge.svg)](https://colab.research.google.com/github/kabachuha/video2scenario/blob/main/video2scenario.ipynb)"
          ]
        },
      {
        "cell_type": "code",
        "execution_count": null,
        "metadata": {
          "id": "G2HTLjvpYKj7"
        },
        "outputs": [],
        "source": [
          "%cd /content\n",
          "!git clone https://github.com/kabachuha/video2scenario\n",
          "%cd /content/video2scenario\n",
          "!pip install -r requirements.txt"
        ]
      },
      {
        "cell_type": "code",
        "source": [
          "!python app.py"
        ],
        "metadata": {
          "id": "ThfcWwbNY78F"
        },
        "execution_count": null,
        "outputs": []
      }
    ]
  }